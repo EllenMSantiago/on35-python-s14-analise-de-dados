{
 "cells": [
  {
   "cell_type": "markdown",
   "metadata": {},
   "source": [
    "## 💠 **Parte 2: Olist**\n",
    "\n",
    "**Desafio:** Criar um notebook de análise exploratória (como fizemos na nossa aula de hoje) com todas as etapas de coleta, limpeza, análise e visualização com base de dados da Olist.\n",
    "\n",
    "**Requisitos:**\n",
    "\n",
    "    🔸 Formular no mínimo **2 perguntas** (caso queira se desafiar crie pelo menos mais perguntas além das 2 obrigatórias) para responder com suas análises;\n",
    "    🔸 Utilizar pelo menos **3 bases de dados da Olist** (caso você deseje criar sua base do zero). Caso deseje continuar utilizando a que criamos em aula, é necessário incluir pelo menos mais **1 tabela** para enriquecer sua análise.\n",
    "\n",
    "**Para responder as perguntas elaboradas usar:**\n",
    "\n",
    "    🔸 Criar pelo menos **2 gráficos**.\n",
    "    🔸 Exporte sua base final em csv.\n",
    "◾ Submeta uma pasta que contenha:\n",
    "    🔸 o arquivo **seu_nome.ipynb** com sua análise exploratória;\n",
    "    🔸 a base final criada por você no formato .csv;\n",
    "\n",
    "**Dicas:**\n",
    "\n",
    "    🔸 Use os conhecimentos da aula para realizar a análise e as visualizações.\n",
    "    🔸 Use as funções do Pandas para manipular os dados.\n",
    "    🔸 Seja criativa e explore os dados para encontrar insights interessantes!\n",
    "\n",
    "**Boa sorte!**"
   ]
  },
  {
   "cell_type": "markdown",
   "metadata": {},
   "source": [
    "# Perguntas para análise:\n",
    "\n",
    "* 1 - Qual o ticket médio diário,mensal e anual?\n",
    "* 2 - Qual o ano teve o maior número de vendas em valor?\n",
    "* 3 - Qual estado teve mais vendas?\n",
    "* 4 - Pedidos cancelados por estado?\n",
    "* 5 - Qual o produto mais vendido ?\n",
    "* 6 - Qual vendedor com mais vendas ?"
   ]
  },
  {
   "cell_type": "code",
   "execution_count": 65,
   "metadata": {},
   "outputs": [],
   "source": [
    "#importando as biblitecas\n",
    "import pandas as pd\n",
    "import numpy as np\n",
    "import seaborn as sns\n",
    "import matplotlib.pyplot as plt"
   ]
  },
  {
   "cell_type": "code",
   "execution_count": null,
   "metadata": {},
   "outputs": [],
   "source": [
    "#lendo o arquivo csv df pedidos\n",
    "\n",
    "df_pedidos = pd.read_csv('../para-sala/dados/olist_orders_dataset.csv')"
   ]
  },
  {
   "cell_type": "code",
   "execution_count": null,
   "metadata": {},
   "outputs": [],
   "source": [
    "# lendo o arquivo csv df itens pedido\n",
    "df_itens_pedido = pd.read_csv('../para-sala/dados/olist_order_items_dataset.csv')"
   ]
  },
  {
   "cell_type": "code",
   "execution_count": null,
   "metadata": {},
   "outputs": [],
   "source": [
    "#lendo arquivo csv de pagamento \n",
    "df_pgto = pd.read_csv('../para-sala/dados/olist_order_payments_dataset.csv')"
   ]
  },
  {
   "cell_type": "code",
   "execution_count": null,
   "metadata": {},
   "outputs": [],
   "source": [
    "#fazendo o filtro do arquvio com apenas as colunas que seram utilizadas\n",
    "df_pgto = df_pgto[['order_id','payment_type']]\n",
    "df_pgto = df_pgto.dropna()\n",
    "df_pgto = df_pgto.reset_index(drop=True)\n",
    "df_pgto"
   ]
  },
  {
   "cell_type": "code",
   "execution_count": null,
   "metadata": {},
   "outputs": [],
   "source": [
    "#Fazendo o merge para juntar os dfs usando a função merge e inner com base nas colunas 'order_id'\n",
    "df_olist_pedidos = pd.merge(df_pedidos, df_itens_pedido, on=['order_id'], how='inner')\n",
    "df_olist_pedidos"
   ]
  },
  {
   "cell_type": "code",
   "execution_count": null,
   "metadata": {},
   "outputs": [],
   "source": [
    "#lendo o arquivo csv df consumidor\n",
    "df_consumidor = pd.read_csv('../para-sala/dados/olist_customers_dataset.csv')\n",
    "df_consumidor"
   ]
  },
  {
   "cell_type": "code",
   "execution_count": null,
   "metadata": {},
   "outputs": [],
   "source": [
    "# juntando os  dois dfs, com base na colunas'customer_id'.\n",
    "df_olist_pedidos_uf = pd.merge(df_olist_pedidos, df_consumidor, on=['customer_id'], how='inner')\n",
    "df_olist_pedidos_uf"
   ]
  },
  {
   "cell_type": "code",
   "execution_count": null,
   "metadata": {},
   "outputs": [],
   "source": [
    "#lendo arquivo csv do produtos \n",
    "df_produtos = df_produtos = pd.read_csv('../para-sala/dados/olist_products_dataset.csv') \n",
    "df_produtos"
   ]
  },
  {
   "cell_type": "code",
   "execution_count": null,
   "metadata": {},
   "outputs": [],
   "source": [
    "#Fazendo o filtro do arquivo com apenas as colunas que seram utlizadas\n",
    "df_produtos = df_produtos[['product_id','product_category_name']]\n",
    "df_produtos = df_produtos.dropna()\n",
    "df_produtos = df_produtos.reset_index(drop=True)\n",
    "df_produtos\n"
   ]
  },
  {
   "cell_type": "markdown",
   "metadata": {},
   "source": [
    "# * Iniciando a limpeza dos dados"
   ]
  },
  {
   "cell_type": "code",
   "execution_count": null,
   "metadata": {},
   "outputs": [],
   "source": [
    "# Verificando as informações dos dados\n",
    "df_pedidos.info()"
   ]
  },
  {
   "cell_type": "code",
   "execution_count": null,
   "metadata": {},
   "outputs": [],
   "source": [
    "# criando uma lista com a colunas que não seram utilizadas e excluindo-as do df\n",
    "columns_drop = ['order_approved_at', 'order_delivered_carrier_date', 'order_estimated_delivery_date']\n",
    "df_pedidos = df_pedidos.drop(columns_drop, axis=1)\n",
    "df_pedidos"
   ]
  },
  {
   "cell_type": "code",
   "execution_count": null,
   "metadata": {},
   "outputs": [],
   "source": [
    "# Verificando os status disponíveis no df\n",
    "df_pedidos['order_status'].unique()"
   ]
  },
  {
   "cell_type": "code",
   "execution_count": null,
   "metadata": {},
   "outputs": [],
   "source": [
    "# Verificando a quantidade de pedidos finalizados\n",
    "df_pedidos[df_pedidos['order_status'] == 'delivered']"
   ]
  },
  {
   "cell_type": "code",
   "execution_count": null,
   "metadata": {},
   "outputs": [],
   "source": [
    "# Verificando a quantidade de  pedidos cancelados\n",
    "df_pedidos[df_pedidos['order_status'] == 'canceled']\n",
    "\n"
   ]
  },
  {
   "cell_type": "code",
   "execution_count": null,
   "metadata": {},
   "outputs": [],
   "source": [
    "# Filtrando somente pedidos finalizados, percebemos que perdemos um número razoável de linhas, cerca de 3 mil.\n",
    "# Agora, com nosso dataset filtrado, precisamos resetar o seu index:\n",
    "df_pedidos = df_pedidos.reset_index(drop=True)\n",
    "df_pedidos"
   ]
  },
  {
   "cell_type": "code",
   "execution_count": null,
   "metadata": {},
   "outputs": [],
   "source": [
    "df_pedidos.info()"
   ]
  },
  {
   "cell_type": "code",
   "execution_count": null,
   "metadata": {},
   "outputs": [],
   "source": [
    "# transformando a colunas de datas que estão como string em datatime: \n",
    "df_pedidos['order_purchase_timestamp'] = pd.to_datetime(df_pedidos['order_purchase_timestamp'])\n",
    "df_pedidos['order_delivered_customer_date'] = pd.to_datetime(df_pedidos['order_delivered_customer_date'])\n",
    "\n",
    "#Criando a colunas com mês e ano por que iremmos usar para nossa análise\n",
    "df_pedidos['reference_month_year'] = pd.to_datetime(df_pedidos['order_purchase_timestamp'].dt.strftime('%Y-%m'))\n",
    "df_pedidos"
   ]
  },
  {
   "cell_type": "code",
   "execution_count": null,
   "metadata": {},
   "outputs": [],
   "source": [
    "df_pedidos"
   ]
  },
  {
   "cell_type": "code",
   "execution_count": null,
   "metadata": {},
   "outputs": [],
   "source": [
    "# verificando o dados df itens pedido\n",
    "df_itens_pedido.info()"
   ]
  },
  {
   "cell_type": "code",
   "execution_count": null,
   "metadata": {},
   "outputs": [],
   "source": [
    "# Verificando os dados df consumidor\n",
    "df_consumidor.info()"
   ]
  },
  {
   "cell_type": "code",
   "execution_count": null,
   "metadata": {},
   "outputs": [],
   "source": [
    "# Excluindo a coluna 'customer_unique_id'\n",
    "df_consumidor = df_consumidor.drop('customer_unique_id', axis=1)\n",
    "df_consumidor"
   ]
  },
  {
   "cell_type": "code",
   "execution_count": 26,
   "metadata": {},
   "outputs": [],
   "source": [
    "# Por padrão é realizado o merge dos dados com o inner join\n",
    "# Jutando os df pedidos e itens de pedidos\n",
    "df_pedidos  = pd.merge(df_pedidos, df_itens_pedido, on='order_id', how='inner')\n"
   ]
  },
  {
   "cell_type": "code",
   "execution_count": null,
   "metadata": {},
   "outputs": [],
   "source": [
    "#juntando os dfs\n",
    "df_pedidos = pd.merge(df_pedidos, df_produtos, on=['product_id'], how='inner')\n",
    "df_pgto = pd.merge(df_pgto, df_pedidos, on=['order_id'], how='inner')\n",
    "df_olist = pd.merge(df_pgto, df_consumidor, on=['customer_id'], how='inner')\n",
    "df_olist"
   ]
  },
  {
   "cell_type": "code",
   "execution_count": null,
   "metadata": {},
   "outputs": [],
   "source": [
    "df_olist.info()"
   ]
  },
  {
   "cell_type": "code",
   "execution_count": null,
   "metadata": {},
   "outputs": [],
   "source": [
    "# Aqui estamos buscando uma estatística descritiva, podemos utilizar a nossa função describe() para trazer essas informações\n",
    "df_olist.describe().T"
   ]
  },
  {
   "cell_type": "code",
   "execution_count": 31,
   "metadata": {},
   "outputs": [],
   "source": [
    "# Exportando a base final em csv\n",
    "df_olist.to_csv('Base_final_2_olist.csv',index=False)"
   ]
  },
  {
   "cell_type": "markdown",
   "metadata": {},
   "source": [
    "# Perguntas :\n",
    "* 1 - Qual o ticket médio diário,mensal e anual?\n",
    "* 2 - Qual o ano teve o maior número de vendas em valor?\n",
    "* 3 - Qual estado teve mais vendas?\n",
    "* 4 - Pedidos cancelados por estado?\n",
    "* 5 - Qual categoria de produto foi mais vendida?\n",
    "* 6 - Qual meio de pagamento mais utilizado?\n"
   ]
  },
  {
   "cell_type": "markdown",
   "metadata": {},
   "source": [
    "# 1 - Qual o ticket médio diário,mensal e anual?"
   ]
  },
  {
   "cell_type": "code",
   "execution_count": null,
   "metadata": {},
   "outputs": [],
   "source": [
    "#Verificando o ticket médio diário\n",
    "ticket_médio_diario = df_olist['reference_month_year'].dt.day\n",
    "ticket_médio_diario = df_olist.groupby(ticket_médio_diario)['price'].mean()\n",
    "ticket_médio_diario"
   ]
  },
  {
   "cell_type": "code",
   "execution_count": null,
   "metadata": {},
   "outputs": [],
   "source": [
    "#verificando o ticket média mensal\n",
    "mes_filter = df_olist['reference_month_year'].dt.month\n",
    "ticket_médio_mensal = df_olist.groupby(mes_filter)['price'].mean()\n",
    "ticket_médio_mensal\n",
    "\n"
   ]
  },
  {
   "cell_type": "code",
   "execution_count": null,
   "metadata": {},
   "outputs": [],
   "source": [
    "#verificando o ticket média anual\n",
    "ticket_médio_anual = df_olist['reference_month_year'].dt.year\n",
    "ticket_médio_anual = df_olist.groupby(ticket_médio_anual)['price'].mean()\n",
    "ticket_médio_anual\n"
   ]
  },
  {
   "cell_type": "markdown",
   "metadata": {},
   "source": [
    "# 2 - Qual o ano teve o maior número de vendas em valor?"
   ]
  },
  {
   "cell_type": "code",
   "execution_count": null,
   "metadata": {},
   "outputs": [],
   "source": [
    "# Verificando total de vendas por ano para verificar o ano com mais vendas\n",
    "vendas_anual = df_olist['reference_month_year'].dt.year\n",
    "total_vendas_anual = df_olist.groupby(vendas_anual)['price'].sum()\n",
    "total_vendas_anual\n"
   ]
  },
  {
   "cell_type": "code",
   "execution_count": null,
   "metadata": {},
   "outputs": [],
   "source": [
    "# definir tamanho da figura\n",
    "plt.figure(figsize=(8, 6))\n",
    "\n",
    "# definindo uma lista de cores para o gráfico\n",
    "cores = ['red', 'yellow', 'green']\n",
    "# instanciar o tipo de plotagem, no caso, um countplot usando x como os anos\n",
    "sns.countplot(data = df_olist,\n",
    "              x = vendas_anual,\n",
    "              palette=cores)\n",
    "\n",
    "# definir texto do título e eixos x e y\n",
    "plt.title('Total de vendas por ano')\n",
    "plt.xlabel('Anos')\n",
    "plt.ylabel('Contagem')\n",
    "plt.show()"
   ]
  },
  {
   "cell_type": "markdown",
   "metadata": {},
   "source": [
    "# 3 - Qual o estado teve mais vendas?"
   ]
  },
  {
   "cell_type": "code",
   "execution_count": null,
   "metadata": {},
   "outputs": [],
   "source": [
    "#Verificando os estados\n",
    "df_olist['customer_state'].unique()"
   ]
  },
  {
   "cell_type": "code",
   "execution_count": null,
   "metadata": {},
   "outputs": [],
   "source": [
    "# verificando em qual estado teve mais vendas\n",
    "regiao = df_olist['customer_state'].mode()\n",
    "regiao\n"
   ]
  },
  {
   "cell_type": "code",
   "execution_count": null,
   "metadata": {},
   "outputs": [],
   "source": [
    "# Filtrando as vendas finalizadas\n",
    "vendas_finalizadas = df_olist[df_olist['order_status'] == 'delivered']\n",
    "\n",
    "# Agrupando as vendas finalizadas por estado e contando a quantidade de vendas finalizadas\n",
    "venda_regiao = vendas_finalizadas.groupby('customer_state').size().reset_index(name='total_vendas')\n",
    "\n",
    "venda_regiao\n",
    "\n"
   ]
  },
  {
   "cell_type": "code",
   "execution_count": null,
   "metadata": {},
   "outputs": [],
   "source": [
    "# definir tamanho da figura\n",
    "plt.figure(figsize=(10, 6))\n",
    "\n",
    "# instanciar o tipo de plotagem, no caso, um countplot usando x como os tipos status do pedido e estado\n",
    "sns.countplot(data = vendas_finalizadas,\n",
    "              x = 'customer_state', \n",
    "              hue = 'order_status',\n",
    "              palette=['#006400'])\n",
    "\n",
    "# como o texto do eixo x é longo, podemos rotacioná-lo para melhorar a visualização\n",
    "plt.xticks(rotation=330)\n",
    "\n",
    "# definir texto do título e eixos x e y\n",
    "\n",
    "plt.title('Vendas finalizadas por estado')\n",
    "plt.xlabel('Estado')\n",
    "plt.ylabel('Contagem')\n",
    "\n",
    "# plotar e definir texto da legenda\n",
    "plt.legend(title = 'order_status')\n",
    "\n",
    "\n",
    "plt.show()"
   ]
  },
  {
   "cell_type": "markdown",
   "metadata": {},
   "source": [
    "# 4 - Pedidos cancelados por estado?"
   ]
  },
  {
   "cell_type": "code",
   "execution_count": null,
   "metadata": {},
   "outputs": [],
   "source": [
    "# Filtrando os pedidos cancelados\n",
    "vendas_canceladas = df_olist[df_olist['order_status'] == 'canceled']\n",
    "\n",
    "# Agrupa as vendas finalizadas por estado e o status do pedido\n",
    "venda_canceladas_região = vendas_canceladas.groupby('customer_state').size().reset_index(name='total_vendas')\n",
    "\n",
    "venda_canceladas_região\n"
   ]
  },
  {
   "cell_type": "code",
   "execution_count": null,
   "metadata": {},
   "outputs": [],
   "source": [
    "# definir tamanho da figura\n",
    "plt.figure(figsize=(10, 6))\n",
    "\n",
    "# instanciar o tipo de plotagem, no caso, um countplot usando x como os tipos status do pedido e estado\n",
    "\n",
    "sns.countplot(data = vendas_canceladas,\n",
    "              x = 'customer_state', \n",
    "              hue = 'order_status',\n",
    "            palette=['#FF6347'])\n",
    "\n",
    "# como o texto do eixo x é longo, podemos rotacioná-lo para melhorar a visualização\n",
    "plt.xticks(rotation=330)\n",
    "\n",
    "# definir texto do título e eixos x e y\n",
    "\n",
    "plt.title('Vendas canceladas por estado')\n",
    "plt.xlabel('Estado')\n",
    "plt.ylabel('Contagem')\n",
    "\n",
    "# plotar e definir texto da legenda\n",
    "plt.legend(title='order_status')\n",
    "\n",
    "plt.show()"
   ]
  },
  {
   "cell_type": "markdown",
   "metadata": {},
   "source": [
    "# 5 - Qual categoria de produto foi mais vendida?\n"
   ]
  },
  {
   "cell_type": "code",
   "execution_count": null,
   "metadata": {},
   "outputs": [],
   "source": [
    "# Filtrando somente vendas finalizadas\n",
    "pedidos_finalizados = df_olist[df_olist['order_status'] == 'delivered']\n",
    "\n",
    "# Usando a função valeu_counts()) para verificar qual a categoria mais vendida e normalizando o resultado para porcentagem\n",
    "categoria_mais_vendido = pedidos_finalizados['product_category_name'].value_counts(normalize=True)\n",
    "categoria_mais_vendido"
   ]
  },
  {
   "cell_type": "markdown",
   "metadata": {},
   "source": [
    "# 6 - Qual meio de pagamento mais utilizado?"
   ]
  },
  {
   "cell_type": "code",
   "execution_count": null,
   "metadata": {},
   "outputs": [],
   "source": [
    "# Verificando o id do vendedor com mais vendas usando a função mode()\n",
    "meio_de_pagamento = df_olist['payment_type'].value_counts(normalize=True)\n",
    "meio_de_pagamento"
   ]
  },
  {
   "cell_type": "code",
   "execution_count": null,
   "metadata": {},
   "outputs": [],
   "source": [
    "# definir tamanho da figura\n",
    "plt.figure(figsize=(8, 6))\n",
    "\n",
    "# definindo uma lista de cores para o gráfico\n",
    "cores = ['green','blue','yellow','red']\n",
    "# instanciar o tipo de plotagem, no caso, um countplot usando x como os meios de pagamentp\n",
    "sns.countplot(data = df_olist,\n",
    "              x ='payment_type',\n",
    "              palette=cores)\n",
    "\n",
    "# definir texto do título e eixos x e y\n",
    "plt.title('Meios de pagamento mais utilizado')\n",
    "plt.xlabel('Meios de pagamento')\n",
    "plt.ylabel('Contagem')\n",
    "plt.show()"
   ]
  }
 ],
 "metadata": {
  "kernelspec": {
   "display_name": "Python 3",
   "language": "python",
   "name": "python3"
  },
  "language_info": {
   "codemirror_mode": {
    "name": "ipython",
    "version": 3
   },
   "file_extension": ".py",
   "mimetype": "text/x-python",
   "name": "python",
   "nbconvert_exporter": "python",
   "pygments_lexer": "ipython3",
   "version": "3.12.0"
  }
 },
 "nbformat": 4,
 "nbformat_minor": 2
}
